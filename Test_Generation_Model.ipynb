{
 "cells": [
  {
   "cell_type": "markdown",
   "metadata": {},
   "source": [
    "## A partir de este modelo:\n",
    "https://huggingface.co/stablediffusionapi/juggernaut-xl-v5?text=Create+a+image+of+a+robot+with+a+happy+face\n",
    "\n",
    "Crea un app web para generación de imágenes a partir de texto"
   ]
  },
  {
   "cell_type": "code",
   "execution_count": 4,
   "metadata": {},
   "outputs": [
    {
     "name": "stdout",
     "output_type": "stream",
     "text": [
      "{\"status\":\"success\",\"generationTime\":4.44,\"id\":71568967,\"output\":[\"https:\\/\\/pub-3626123a908346a7a8be8d9295f44e26.r2.dev\\/generations\\/0-53022702-c9fd-47f8-b955-5d8e59afb862.png\"],\"proxy_links\":[\"https:\\/\\/cdn2.stablediffusionapi.com\\/generations\\/0-53022702-c9fd-47f8-b955-5d8e59afb862.png\"],\"nsfw_content_detected\":false,\"webhook_status\":\"\",\"meta\":{\"prompt\":\" ultra realistic close up portrait ((beautiful pale cyberpunk female with heavy black eyeliner)), blue eyes, shaved side haircut, hyper detail, cinematic lighting, magic neon, dark red city, Canon EOS R3, nikon, f\\/1.4, ISO 200, 1\\/160s, 8K, RAW, unedited, symmetrical balance, in-frame, 8K hyperrealistic, full body, detailed clothing, highly detailed, cinematic lighting, stunningly beautiful, intricate, sharp focus, f\\/1. 8, 85mm, (centered image composition), (professionally color graded), ((bright soft diffused light)), volumetric fog, trending on instagram, trending on tumblr, HDR 4K, 8K\",\"model_id\":\"juggernaut-xl-v5\",\"negative_prompt\":\"painting, extra fingers, mutated hands, poorly drawn hands, poorly drawn face, deformed, ugly, blurry, bad anatomy, bad proportions, extra limbs, cloned face, skinny, glitchy, double torso, extra arms, extra hands, mangled fingers, missing lips, ugly face, distorted face, extra legs, anime (child:1.5), ((((underage)))), ((((child)))), (((kid))), (((preteen))), (teen:1.5) ugly, tiling, poorly drawn hands, poorly drawn feet, poorly drawn face, out of frame, extra limbs, disfigured, deformed, body out of frame, bad anatomy, watermark, signature, cut off, low contrast, underexposed, overexposed, bad art, beginner, amateur, distorted face, blurry, draft, grainy\",\"scheduler\":\"UniPCMultistepScheduler\",\"safety_checker\":\"no\",\"W\":512,\"H\":512,\"guidance_scale\":7.5,\"seed\":3002888771,\"steps\":20,\"n_samples\":1,\"full_url\":\"no\",\"instant_response\":\"no\",\"tomesd\":\"yes\",\"ip_adapter_id\":null,\"ip_adapter_scale\":0.6,\"ip_adapter_image\":null,\"free_u\":\"no\",\"upscale\":\"no\",\"multi_lingual\":\"no\",\"panorama\":\"no\",\"self_attention\":\"no\",\"use_karras_sigmas\":\"no\",\"algorithm_type\":\"no\",\"safety_checker_type\":\"sensitive_content_text\",\"embeddings\":null,\"vae\":null,\"lora\":null,\"lora_strength\":1,\"clip_skip\":1,\"temp\":\"no\",\"base64\":\"no\",\"file_prefix\":\"53022702-c9fd-47f8-b955-5d8e59afb862.png\"},\"tip\":\"Get 20x faster image generation using enterprise plan. Click here : https:\\/\\/stablediffusionapi.com\\/enterprise\"}\n"
     ]
    }
   ],
   "source": [
    "import requests  \n",
    "import json  \n",
    "  \n",
    "url =  \"https://stablediffusionapi.com/api/v4/dreambooth\"  \n",
    "  \n",
    "payload = json.dumps({  \n",
    "\"key\":  \"GOnQLmYiKX9e5T53LAtnlPE5tShwtdU2VfaEnyov8vtid5DnNQJQ74bXWVxt\",  \n",
    "\"model_id\":  \"juggernaut-xl-v5\",  \n",
    "\"prompt\":  \"ultra realistic close up portrait ((beautiful pale cyberpunk female with heavy black eyeliner)), blue eyes, shaved side haircut, hyper detail, cinematic lighting, magic neon, dark red city, Canon EOS R3, nikon, f/1.4, ISO 200, 1/160s, 8K, RAW, unedited, symmetrical balance, in-frame, 8K\",  \n",
    "\"negative_prompt\":  \"painting, extra fingers, mutated hands, poorly drawn hands, poorly drawn face, deformed, ugly, blurry, bad anatomy, bad proportions, extra limbs, cloned face, skinny, glitchy, double torso, extra arms, extra hands, mangled fingers, missing lips, ugly face, distorted face, extra legs, anime\",  \n",
    "\"width\":  \"512\",  \n",
    "\"height\":  \"512\",  \n",
    "\"samples\":  \"1\",  \n",
    "\"num_inference_steps\":  \"30\",  \n",
    "\"safety_checker\":  \"no\",  \n",
    "\"enhance_prompt\":  \"yes\",  \n",
    "\"seed\":  None,  \n",
    "\"guidance_scale\":  7.5,  \n",
    "\"multi_lingual\":  \"no\",  \n",
    "\"panorama\":  \"no\",  \n",
    "\"self_attention\":  \"no\",  \n",
    "\"upscale\":  \"no\",  \n",
    "\"embeddings\":  \"embeddings_model_id\",  \n",
    "\"lora\":  \"lora_model_id\",  \n",
    "\"webhook\":  None,  \n",
    "\"track_id\":  None  \n",
    "})  \n",
    "  \n",
    "headers =  {  \n",
    "'Content-Type':  'application/json'  \n",
    "}  \n",
    "  \n",
    "response = requests.request(\"POST\", url, headers=headers, data=payload)  \n",
    "  \n",
    "print(response.text)\n"
   ]
  },
  {
   "cell_type": "code",
   "execution_count": 5,
   "metadata": {},
   "outputs": [
    {
     "data": {
      "text/plain": [
       "{'status': 'success',\n",
       " 'generationTime': 4.44,\n",
       " 'id': 71568967,\n",
       " 'output': ['https://pub-3626123a908346a7a8be8d9295f44e26.r2.dev/generations/0-53022702-c9fd-47f8-b955-5d8e59afb862.png'],\n",
       " 'proxy_links': ['https://cdn2.stablediffusionapi.com/generations/0-53022702-c9fd-47f8-b955-5d8e59afb862.png'],\n",
       " 'nsfw_content_detected': False,\n",
       " 'webhook_status': '',\n",
       " 'meta': {'prompt': ' ultra realistic close up portrait ((beautiful pale cyberpunk female with heavy black eyeliner)), blue eyes, shaved side haircut, hyper detail, cinematic lighting, magic neon, dark red city, Canon EOS R3, nikon, f/1.4, ISO 200, 1/160s, 8K, RAW, unedited, symmetrical balance, in-frame, 8K hyperrealistic, full body, detailed clothing, highly detailed, cinematic lighting, stunningly beautiful, intricate, sharp focus, f/1. 8, 85mm, (centered image composition), (professionally color graded), ((bright soft diffused light)), volumetric fog, trending on instagram, trending on tumblr, HDR 4K, 8K',\n",
       "  'model_id': 'juggernaut-xl-v5',\n",
       "  'negative_prompt': 'painting, extra fingers, mutated hands, poorly drawn hands, poorly drawn face, deformed, ugly, blurry, bad anatomy, bad proportions, extra limbs, cloned face, skinny, glitchy, double torso, extra arms, extra hands, mangled fingers, missing lips, ugly face, distorted face, extra legs, anime (child:1.5), ((((underage)))), ((((child)))), (((kid))), (((preteen))), (teen:1.5) ugly, tiling, poorly drawn hands, poorly drawn feet, poorly drawn face, out of frame, extra limbs, disfigured, deformed, body out of frame, bad anatomy, watermark, signature, cut off, low contrast, underexposed, overexposed, bad art, beginner, amateur, distorted face, blurry, draft, grainy',\n",
       "  'scheduler': 'UniPCMultistepScheduler',\n",
       "  'safety_checker': 'no',\n",
       "  'W': 512,\n",
       "  'H': 512,\n",
       "  'guidance_scale': 7.5,\n",
       "  'seed': 3002888771,\n",
       "  'steps': 20,\n",
       "  'n_samples': 1,\n",
       "  'full_url': 'no',\n",
       "  'instant_response': 'no',\n",
       "  'tomesd': 'yes',\n",
       "  'ip_adapter_id': None,\n",
       "  'ip_adapter_scale': 0.6,\n",
       "  'ip_adapter_image': None,\n",
       "  'free_u': 'no',\n",
       "  'upscale': 'no',\n",
       "  'multi_lingual': 'no',\n",
       "  'panorama': 'no',\n",
       "  'self_attention': 'no',\n",
       "  'use_karras_sigmas': 'no',\n",
       "  'algorithm_type': 'no',\n",
       "  'safety_checker_type': 'sensitive_content_text',\n",
       "  'embeddings': None,\n",
       "  'vae': None,\n",
       "  'lora': None,\n",
       "  'lora_strength': 1,\n",
       "  'clip_skip': 1,\n",
       "  'temp': 'no',\n",
       "  'base64': 'no',\n",
       "  'file_prefix': '53022702-c9fd-47f8-b955-5d8e59afb862.png'},\n",
       " 'tip': 'Get 20x faster image generation using enterprise plan. Click here : https://stablediffusionapi.com/enterprise'}"
      ]
     },
     "execution_count": 5,
     "metadata": {},
     "output_type": "execute_result"
    }
   ],
   "source": [
    "response.json()"
   ]
  },
  {
   "cell_type": "code",
   "execution_count": 7,
   "metadata": {},
   "outputs": [
    {
     "data": {
      "text/plain": [
       "'https://pub-3626123a908346a7a8be8d9295f44e26.r2.dev/generations/0-53022702-c9fd-47f8-b955-5d8e59afb862.png'"
      ]
     },
     "execution_count": 7,
     "metadata": {},
     "output_type": "execute_result"
    }
   ],
   "source": [
    "response.json()['output'][0]"
   ]
  },
  {
   "cell_type": "code",
   "execution_count": null,
   "metadata": {},
   "outputs": [],
   "source": []
  }
 ],
 "metadata": {
  "kernelspec": {
   "display_name": "Python 3",
   "language": "python",
   "name": "python3"
  },
  "language_info": {
   "codemirror_mode": {
    "name": "ipython",
    "version": 3
   },
   "file_extension": ".py",
   "mimetype": "text/x-python",
   "name": "python",
   "nbconvert_exporter": "python",
   "pygments_lexer": "ipython3",
   "version": "3.12.1"
  }
 },
 "nbformat": 4,
 "nbformat_minor": 2
}
